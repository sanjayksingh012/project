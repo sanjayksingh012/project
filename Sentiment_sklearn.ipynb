{
 "cells": [
  {
   "cell_type": "markdown",
   "metadata": {},
   "source": [
    "# READ THE DATA \n",
    "1. Directly from CSV file KAGGLE\n",
    "or\n",
    "2. Download the orignal text files url = \"https://ai.stanford.edu/~amaas/data/sentiment/aclImdb_v1.tar.gz\" "
   ]
  },
  {
   "cell_type": "code",
   "execution_count": 15,
   "metadata": {},
   "outputs": [
    {
     "name": "stderr",
     "output_type": "stream",
     "text": [
      "0% [##############################] 100% | ETA: 00:00:00\n",
      "Total time elapsed: 00:02:38\n"
     ]
    }
   ],
   "source": [
    "# READ ALL Text files and made CSV\n",
    "import pyprind # to show progress\n",
    "import pandas as pd\n",
    "import os\n",
    "pbar=pyprind.ProgBar(50000) # 50000 file\n",
    "\n",
    "df=pd.DataFrame()\n",
    "for s in ('test','train'):\n",
    "    for l in ('pos','neg'):\n",
    "        path='./aclImdb/%s/%s'%(s,l)\n",
    "        for file in os.listdir(path):\n",
    "            \n",
    "            with open(os.path.join(path,file),'r',encoding='utf8') as infile:\n",
    "                txt=infile.read()\n",
    "            df=df.append([[txt,l]],ignore_index=True)\n",
    "            pbar.update()\n",
    "            "
   ]
  },
  {
   "cell_type": "code",
   "execution_count": 16,
   "metadata": {},
   "outputs": [
    {
     "data": {
      "text/html": [
       "<div>\n",
       "<style scoped>\n",
       "    .dataframe tbody tr th:only-of-type {\n",
       "        vertical-align: middle;\n",
       "    }\n",
       "\n",
       "    .dataframe tbody tr th {\n",
       "        vertical-align: top;\n",
       "    }\n",
       "\n",
       "    .dataframe thead th {\n",
       "        text-align: right;\n",
       "    }\n",
       "</style>\n",
       "<table border=\"1\" class=\"dataframe\">\n",
       "  <thead>\n",
       "    <tr style=\"text-align: right;\">\n",
       "      <th></th>\n",
       "      <th>review</th>\n",
       "      <th>sentiment</th>\n",
       "    </tr>\n",
       "  </thead>\n",
       "  <tbody>\n",
       "    <tr>\n",
       "      <th>0</th>\n",
       "      <td>I went and saw this movie last night after bei...</td>\n",
       "      <td>pos</td>\n",
       "    </tr>\n",
       "    <tr>\n",
       "      <th>1</th>\n",
       "      <td>Actor turned director Bill Paxton follows up h...</td>\n",
       "      <td>pos</td>\n",
       "    </tr>\n",
       "    <tr>\n",
       "      <th>2</th>\n",
       "      <td>As a recreational golfer with some knowledge o...</td>\n",
       "      <td>pos</td>\n",
       "    </tr>\n",
       "    <tr>\n",
       "      <th>3</th>\n",
       "      <td>I saw this film in a sneak preview, and it is ...</td>\n",
       "      <td>pos</td>\n",
       "    </tr>\n",
       "    <tr>\n",
       "      <th>4</th>\n",
       "      <td>Bill Paxton has taken the true story of the 19...</td>\n",
       "      <td>pos</td>\n",
       "    </tr>\n",
       "  </tbody>\n",
       "</table>\n",
       "</div>"
      ],
      "text/plain": [
       "                                              review sentiment\n",
       "0  I went and saw this movie last night after bei...       pos\n",
       "1  Actor turned director Bill Paxton follows up h...       pos\n",
       "2  As a recreational golfer with some knowledge o...       pos\n",
       "3  I saw this film in a sneak preview, and it is ...       pos\n",
       "4  Bill Paxton has taken the true story of the 19...       pos"
      ]
     },
     "execution_count": 16,
     "metadata": {},
     "output_type": "execute_result"
    }
   ],
   "source": [
    "df.columns=['review','sentiment']\n",
    "df.head()"
   ]
  },
  {
   "cell_type": "code",
   "execution_count": 17,
   "metadata": {},
   "outputs": [],
   "source": [
    "df.to_csv('sentiment_data.csv',index=False)"
   ]
  },
  {
   "cell_type": "code",
   "execution_count": 44,
   "metadata": {},
   "outputs": [
    {
     "name": "stdout",
     "output_type": "stream",
     "text": [
      "                                              review sentiment\n",
      "0  I went and saw this movie last night after bei...       pos\n",
      "1  Actor turned director Bill Paxton follows up h...       pos\n",
      "2  As a recreational golfer with some knowledge o...       pos\n",
      "3  I saw this film in a sneak preview, and it is ...       pos\n",
      "4  Bill Paxton has taken the true story of the 19...       pos\n",
      "(50000, 2)\n",
      "pos    25000\n",
      "neg    25000\n",
      "Name: sentiment, dtype: int64\n"
     ]
    }
   ],
   "source": [
    "###### REad CSV file\n",
    "df=pd.read_csv('sentiment_data.csv')\n",
    "print(df.head())\n",
    "print(df.shape)\n",
    "### contribution of each samples\n",
    "print(df['sentiment'].value_counts())"
   ]
  },
  {
   "cell_type": "code",
   "execution_count": 45,
   "metadata": {},
   "outputs": [
    {
     "data": {
      "text/plain": [
       "review       0\n",
       "sentiment    0\n",
       "dtype: int64"
      ]
     },
     "execution_count": 45,
     "metadata": {},
     "output_type": "execute_result"
    }
   ],
   "source": [
    "###### MISSING values\n",
    "df.isnull().sum()"
   ]
  },
  {
   "cell_type": "code",
   "execution_count": 46,
   "metadata": {},
   "outputs": [
    {
     "data": {
      "text/plain": [
       "<matplotlib.axes._subplots.AxesSubplot at 0x2c20237fd30>"
      ]
     },
     "execution_count": 46,
     "metadata": {},
     "output_type": "execute_result"
    },
    {
     "data": {
      "image/png": "[encoded data removed]",
      "text/plain": [
       "<Figure size 432x288 with 1 Axes>"
      ]
     },
     "metadata": {
      "needs_background": "light"
     },
     "output_type": "display_data"
    }
   ],
   "source": [
    "import seaborn as sns\n",
    "sns.countplot(x='sentiment',data=df)"
   ]
  },
  {
   "cell_type": "code",
   "execution_count": 47,
   "metadata": {},
   "outputs": [
    {
     "name": "stdout",
     "output_type": "stream",
     "text": [
      "                                              review  sentiment\n",
      "0  I went and saw this movie last night after bei...          1\n",
      "1  Actor turned director Bill Paxton follows up h...          1\n",
      "2  As a recreational golfer with some knowledge o...          1\n",
      "3  I saw this film in a sneak preview, and it is ...          1\n",
      "4  Bill Paxton has taken the true story of the 19...          1\n"
     ]
    },
    {
     "data": {
      "text/plain": [
       "1    25000\n",
       "0    25000\n",
       "Name: sentiment, dtype: int64"
      ]
     },
     "execution_count": 47,
     "metadata": {},
     "output_type": "execute_result"
    }
   ],
   "source": [
    "#################\n",
    "#map positive to 1 and negative to 0\n",
    "df['sentiment'] = df['sentiment'].apply(lambda x: 1 if x == 'pos' else 0)\n",
    "print(df.head())\n",
    "df['sentiment'].value_counts()"
   ]
  },
  {
   "cell_type": "code",
   "execution_count": 48,
   "metadata": {},
   "outputs": [
    {
     "name": "stdout",
     "output_type": "stream",
     "text": [
      "                                              review  sentiment\n",
      "0  i went and saw this movie last night after bei...          1\n",
      "1  actor turned director bill paxton follows up h...          1\n",
      "2  as a recreational golfer with some knowledge o...          1\n",
      "3  i saw this film in a sneak preview, and it is ...          1\n",
      "4  bill paxton has taken the true story of the 19...          1\n"
     ]
    }
   ],
   "source": [
    "import re\n",
    "import string\n",
    "def clean_text(text):\n",
    "    \n",
    "    text=text.lower() #lowercase every letter\n",
    "    text=re.sub('<br />','',text)\n",
    "    text = text.split() #split by all white spaces\n",
    "    text = \" \".join(text)#join tokens by single space, this will remove all kinds of weird spaces\n",
    "    text = re.sub(re.escape(string.punctuation), '', text)#removes all punctuation using regex and string module\n",
    "    return text\n",
    "df.loc[:,'review'] = df.review.apply(clean_text)\n",
    "print(df.head())"
   ]
  },
  {
   "cell_type": "code",
   "execution_count": 49,
   "metadata": {},
   "outputs": [
    {
     "name": "stdout",
     "output_type": "stream",
     "text": [
      "(35000,) (35000,)\n",
      "(15000,) (15000,)\n"
     ]
    }
   ],
   "source": [
    "from sklearn.model_selection import train_test_split\n",
    "train, test = train_test_split(df, test_size=0.3, random_state=0)\n",
    "train_x, train_y = train['review'], train['sentiment']\n",
    "test_x, test_y = test['review'], test['sentiment']\n",
    "print(train_x.shape,train_y.shape)\n",
    "print(test_x.shape,test_y.shape)"
   ]
  },
  {
   "cell_type": "code",
   "execution_count": 50,
   "metadata": {},
   "outputs": [],
   "source": [
    "######### Feature extraction\n",
    "from nltk import word_tokenize\n",
    "from sklearn.feature_extraction.text import TfidfVectorizer\n",
    "tfidf = TfidfVectorizer(tokenizer = word_tokenize, token_pattern = None, stop_words='english')\n",
    "train_x_vector = tfidf.fit_transform(train_x)\n",
    "test_x_vector = tfidf.transform(test_x)"
   ]
  },
  {
   "cell_type": "code",
   "execution_count": 51,
   "metadata": {},
   "outputs": [
    {
     "name": "stdout",
     "output_type": "stream",
     "text": [
      "(35000, 161703)\n"
     ]
    }
   ],
   "source": [
    "df1=pd.DataFrame.sparse.from_spmatrix(train_x_vector,\n",
    "                                  index=train_x.index,\n",
    "                                  columns=tfidf.get_feature_names())\n",
    "print(df1.shape)"
   ]
  },
  {
   "cell_type": "code",
   "execution_count": 52,
   "metadata": {},
   "outputs": [
    {
     "name": "stdout",
     "output_type": "stream",
     "text": [
      "  (0, 24402)\t0.04592599622886422\n",
      "  (0, 22524)\t0.021496474594050727\n",
      "  (0, 106347)\t0.05082368093141137\n",
      "  (0, 80293)\t0.012447771388874528\n",
      "  (0, 86220)\t0.03291267394247257\n",
      "  (0, 18647)\t0.0395810686497683\n",
      "  (0, 86339)\t0.01778343000958246\n",
      "  (0, 141420)\t0.04905486441495321\n",
      "  (0, 67602)\t0.03179453612882691\n",
      "  (0, 84989)\t0.04185316304406786\n",
      "  (0, 142206)\t0.033142424641775664\n",
      "  (0, 26094)\t0.029721503647858232\n",
      "  (0, 149526)\t0.03764591461140876\n",
      "  (0, 94618)\t0.04873006268372236\n",
      "  (0, 119504)\t0.038079554433624256\n",
      "  (0, 92056)\t0.03159824333467539\n",
      "  (0, 115746)\t0.060348322338904636\n",
      "  (0, 25089)\t0.06168421022538647\n",
      "  (0, 41121)\t0.05093246113645112\n",
      "  (0, 66559)\t0.0226893895608625\n",
      "  (0, 19080)\t0.016459325282233764\n",
      "  (0, 146833)\t0.04433046649464749\n",
      "  (0, 96278)\t0.04087549750132617\n",
      "  (0, 156163)\t0.059236224094689774\n",
      "  (0, 54182)\t0.028313057931940444\n",
      "  :\t:\n",
      "  (34998, 64377)\t0.050411891618218685\n",
      "  (34998, 85747)\t0.09066960674495093\n",
      "  (34998, 4725)\t0.15426984100083266\n",
      "  (34998, 4213)\t0.02636879168098725\n",
      "  (34999, 47034)\t0.4969947786615515\n",
      "  (34999, 154489)\t0.312492671888501\n",
      "  (34999, 26462)\t0.26137436655725627\n",
      "  (34999, 50269)\t0.2401245189740784\n",
      "  (34999, 157642)\t0.3155556346988529\n",
      "  (34999, 143719)\t0.19174976971197324\n",
      "  (34999, 94650)\t0.24778534182442366\n",
      "  (34999, 53664)\t0.21590346031386579\n",
      "  (34999, 72985)\t0.19153377199833313\n",
      "  (34999, 116430)\t0.28995651644813936\n",
      "  (34999, 43816)\t0.16503290681174573\n",
      "  (34999, 9284)\t0.11474813253475408\n",
      "  (34999, 111117)\t0.12246606907817528\n",
      "  (34999, 4201)\t0.0751151965196373\n",
      "  (34999, 96411)\t0.06949233745164311\n",
      "  (34999, 155240)\t0.11744308998168626\n",
      "  (34999, 86885)\t0.1487543225047369\n",
      "  (34999, 64377)\t0.18345350022894935\n",
      "  (34999, 85747)\t0.082488755072485\n",
      "  (34999, 4725)\t0.14035052743953286\n",
      "  (34999, 4213)\t0.0479792264821191\n"
     ]
    }
   ],
   "source": [
    "print(train_x_vector)"
   ]
  },
  {
   "cell_type": "code",
   "execution_count": null,
   "metadata": {},
   "outputs": [],
   "source": [
    "########### SVM MODEL\n",
    "from sklearn.svm import SVC\n",
    "svc = SVC(kernel='linear')\n",
    "svc.fit(train_x_vector, train_y)\n",
    "svc.score(test_x_vector, test_y)"
   ]
  },
  {
   "cell_type": "code",
   "execution_count": null,
   "metadata": {},
   "outputs": [],
   "source": [
    "print(svc.predict(tfidf.transform(['A good movie'])))\n",
    "#print(svc.predict(tfidf.transform(['An excellent movie'])))\n",
    "#print(svc.predict(tfidf.transform(['I did not like this movie at all'])))"
   ]
  }
 ],
 "metadata": {
  "kernelspec": {
   "display_name": "Python 3",
   "language": "python",
   "name": "python3"
  },
  "language_info": {
   "codemirror_mode": {
    "name": "ipython",
    "version": 3
   },
   "file_extension": ".py",
   "mimetype": "text/x-python",
   "name": "python",
   "nbconvert_exporter": "python",
   "pygments_lexer": "ipython3",
   "version": "3.8.3"
  }
 },
 "nbformat": 4,
 "nbformat_minor": 4
}
